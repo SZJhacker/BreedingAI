{
 "cells": [
  {
   "cell_type": "code",
   "execution_count": 1,
   "id": "bdfed21d",
   "metadata": {},
   "outputs": [],
   "source": [
    "import pandas as pd"
   ]
  },
  {
   "cell_type": "code",
   "execution_count": 2,
   "id": "77d5b724",
   "metadata": {},
   "outputs": [
    {
     "name": "stderr",
     "output_type": "stream",
     "text": [
      "/tmp/ipykernel_644/2564310430.py:1: DtypeWarning: Columns (2,19,42,45,46) have mixed types. Specify dtype option on import or set low_memory=False.\n",
      "  rice = pd.read_csv('rice_sql_raw.csv')\n",
      "/tmp/ipykernel_644/2564310430.py:2: DtypeWarning: Columns (36,119) have mixed types. Specify dtype option on import or set low_memory=False.\n",
      "  soy = pd.read_csv('soy_sql_raw.csv')\n"
     ]
    }
   ],
   "source": [
    "rice = pd.read_csv('rice_sql_raw.csv')\n",
    "soy = pd.read_csv('soy_sql_raw.csv')\n",
    "zea = pd.read_csv('zea_sql_raw.csv')"
   ]
  },
  {
   "cell_type": "code",
   "execution_count": 8,
   "id": "a59c552e",
   "metadata": {},
   "outputs": [],
   "source": [
    "mapdic = {\n",
    "    \"北京市\": \"Beijing\",\n",
    "    \"天津市\": \"Tianjin\",\n",
    "    \"河北省\": \"Hebei\",\n",
    "    \"山西省\": \"Shanxi\",\n",
    "    \"内蒙古自治区\": \"Inner Mongolia\",\n",
    "    \"辽宁省\": \"Liaoning\",\n",
    "    \"吉林省\": \"Jilin\",\n",
    "    \"黑龙江省\": \"Heilongjiang\",\n",
    "    \"上海市\": \"Shanghai\",\n",
    "    \"江苏省\": \"Jiangsu\",\n",
    "    \"浙江省\": \"Zhejiang\",\n",
    "    \"安徽省\": \"Anhui\",\n",
    "    \"福建省\": \"Fujian\",\n",
    "    \"江西省\": \"Jiangxi\",\n",
    "    \"山东省\": \"Shandong\",\n",
    "    \"河南省\": \"Henan\",\n",
    "    \"湖北省\": \"Hubei\",\n",
    "    \"湖南省\": \"Hunan\",\n",
    "    \"广东省\": \"Guangdong\",\n",
    "    \"广西壮族自治区\": \"Guangxi\",\n",
    "    \"海南省\": \"Hainan\",\n",
    "    \"重庆市\": \"Chongqing\",\n",
    "    \"四川省\": \"Sichuan\",\n",
    "    \"贵州省\": \"Guizhou\",\n",
    "    \"云南省\": \"Yunnan\",\n",
    "    \"西藏自治区\": \"Tibet\",\n",
    "    \"陕西省\": \"Shaanxi\",\n",
    "    \"甘肃省\": \"Gansu\",\n",
    "    \"青海省\": \"Qinghai\",\n",
    "    \"宁夏回族自治区\": \"Ningxia\",\n",
    "    \"新疆维吾尔自治区\": \"Xinjiang\",\n",
    "    \"台湾省\": \"Taiwan\",\n",
    "    \"香港特别行政区\": \"Hong Kong\",\n",
    "    \"澳门特别行政区\": \"Macao\",\n",
    "}"
   ]
  },
  {
   "cell_type": "code",
   "execution_count": 9,
   "id": "23d0d53e",
   "metadata": {},
   "outputs": [],
   "source": [
    "rice['Region'] = rice['Region_cn'].map(mapdic)\n",
    "soy['Region'] = soy['Region_cn'].map(mapdic)\n",
    "zea['Region'] = zea['Region_cn'].map(mapdic)"
   ]
  },
  {
   "cell_type": "code",
   "execution_count": 10,
   "id": "a564b444",
   "metadata": {},
   "outputs": [],
   "source": [
    "rice.to_csv('rice_sql_raw_new.csv', index=False)\n",
    "soy.to_csv('soy_sql_raw_new.csv', index=False)\n",
    "zea.to_csv('zea_sql_raw_new.csv', index=False)"
   ]
  },
  {
   "cell_type": "code",
   "execution_count": null,
   "id": "aac6bf56",
   "metadata": {},
   "outputs": [],
   "source": []
  }
 ],
 "metadata": {
  "kernelspec": {
   "display_name": "Python 3 (ipykernel)",
   "language": "python",
   "name": "python3"
  },
  "language_info": {
   "codemirror_mode": {
    "name": "ipython",
    "version": 3
   },
   "file_extension": ".py",
   "mimetype": "text/x-python",
   "name": "python",
   "nbconvert_exporter": "python",
   "pygments_lexer": "ipython3",
   "version": "3.10.9"
  }
 },
 "nbformat": 4,
 "nbformat_minor": 5
}
